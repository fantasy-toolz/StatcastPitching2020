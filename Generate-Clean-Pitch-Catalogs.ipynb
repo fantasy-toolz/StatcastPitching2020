{
 "cells": [
  {
   "cell_type": "markdown",
   "metadata": {},
   "source": [
    "# Clean Four Seam Fastballs\n",
    "\n",
    "Make a clean sample of four seam fastballs"
   ]
  },
  {
   "cell_type": "code",
   "execution_count": 1,
   "metadata": {},
   "outputs": [],
   "source": [
    "# boilerplate imports\n",
    "\n",
    "import numpy as np\n",
    "import matplotlib.pyplot as plt\n",
    "import matplotlib.cm as cm\n",
    "%matplotlib inline\n",
    "\n",
    "from random import randrange\n",
    "import scipy.stats as sst\n",
    "\n",
    "# ipython reload capabilities for edits to external code\n",
    "%load_ext autoreload\n",
    "%autoreload 2\n",
    "\n",
    "import matplotlib.pyplot as plt\n",
    "plt.rcParams['figure.figsize'] = [10, 5]\n",
    "\n",
    "import pandas as pd\n",
    "\n",
    "import glob"
   ]
  },
  {
   "cell_type": "code",
   "execution_count": 2,
   "metadata": {},
   "outputs": [],
   "source": [
    "from src.ellipse import *"
   ]
  },
  {
   "cell_type": "code",
   "execution_count": 3,
   "metadata": {},
   "outputs": [],
   "source": [
    "# start by selecting your year of interest\n",
    "year = '2020'\n",
    "\n",
    "# todo: add cross-year slices"
   ]
  },
  {
   "cell_type": "code",
   "execution_count": 4,
   "metadata": {},
   "outputs": [
    {
     "name": "stdout",
     "output_type": "stream",
     "text": [
      "621244\n"
     ]
    }
   ],
   "source": [
    "# pull in the codes for statcast queries\n",
    "\n",
    "PlayerDict = dict()\n",
    "f = open('data/playerdict'+year+'.txt')\n",
    "\n",
    "line = f.readline()\n",
    "\n",
    "line = f.readline()\n",
    "\n",
    "while line:\n",
    "    PlayerDict[line.split(',')[0].strip()] = line.split(',')[1].strip()\n",
    "    line = f.readline()\n",
    "\n",
    "f.close()\n",
    "print(PlayerDict['Jose Berrios'])"
   ]
  },
  {
   "cell_type": "code",
   "execution_count": 5,
   "metadata": {},
   "outputs": [],
   "source": [
    "year = '2020'\n",
    "plr_files = glob.glob('data/*'+year+'.csv')\n",
    "saved_plrs = [d.strip('data/').strip('.csv').strip('_'+year) for d in plr_files]"
   ]
  },
  {
   "cell_type": "code",
   "execution_count": 6,
   "metadata": {},
   "outputs": [],
   "source": [
    "# version where we read in the saved files\n",
    "BPDict = {}\n",
    "\n",
    "BPDict[year] = {}\n",
    "\n",
    "for pindx,pnumber in enumerate(saved_plrs):\n",
    "\n",
    "    link = plr_files[pindx]\n",
    "    BPDict[year][pnumber] = pd.read_csv(link, low_memory=False)"
   ]
  },
  {
   "cell_type": "code",
   "execution_count": 7,
   "metadata": {},
   "outputs": [],
   "source": [
    "year = '2019'\n",
    "plr_files = glob.glob('data/*'+year+'.csv')\n",
    "saved_plrs = [d.strip('data/').strip('.csv').strip('_'+year) for d in plr_files]\n",
    "BPDict[year] = {}\n",
    "\n",
    "for pindx,pnumber in enumerate(saved_plrs):\n",
    "\n",
    "    link = plr_files[pindx]\n",
    "    BPDict[year][pnumber] = pd.read_csv(link, low_memory=False)"
   ]
  },
  {
   "cell_type": "code",
   "execution_count": 8,
   "metadata": {},
   "outputs": [
    {
     "data": {
      "text/plain": [
       "Index(['pitch_type', 'game_date', 'release_speed', 'release_pos_x',\n",
       "       'release_pos_z', 'player_name', 'batter', 'pitcher', 'events',\n",
       "       'description', 'spin_dir', 'spin_rate_deprecated',\n",
       "       'break_angle_deprecated', 'break_length_deprecated', 'zone', 'des',\n",
       "       'game_type', 'stand', 'p_throws', 'home_team', 'away_team', 'type',\n",
       "       'hit_location', 'bb_type', 'balls', 'strikes', 'game_year', 'pfx_x',\n",
       "       'pfx_z', 'plate_x', 'plate_z', 'on_3b', 'on_2b', 'on_1b',\n",
       "       'outs_when_up', 'inning', 'inning_topbot', 'hc_x', 'hc_y',\n",
       "       'tfs_deprecated', 'tfs_zulu_deprecated', 'fielder_2', 'umpire', 'sv_id',\n",
       "       'vx0', 'vy0', 'vz0', 'ax', 'ay', 'az', 'sz_top', 'sz_bot',\n",
       "       'hit_distance_sc', 'launch_speed', 'launch_angle', 'effective_speed',\n",
       "       'release_spin_rate', 'release_extension', 'game_pk', 'pitcher.1',\n",
       "       'fielder_2.1', 'fielder_3', 'fielder_4', 'fielder_5', 'fielder_6',\n",
       "       'fielder_7', 'fielder_8', 'fielder_9', 'release_pos_y',\n",
       "       'estimated_ba_using_speedangle', 'estimated_woba_using_speedangle',\n",
       "       'woba_value', 'woba_denom', 'babip_value', 'iso_value',\n",
       "       'launch_speed_angle', 'at_bat_number', 'pitch_number', 'pitch_name',\n",
       "       'home_score', 'away_score', 'bat_score', 'fld_score', 'post_away_score',\n",
       "       'post_home_score', 'post_bat_score', 'post_fld_score',\n",
       "       'if_fielding_alignment', 'of_fielding_alignment'],\n",
       "      dtype='object')"
      ]
     },
     "execution_count": 8,
     "metadata": {},
     "output_type": "execute_result"
    }
   ],
   "source": [
    "\n",
    "indx = 0\n",
    "plr = saved_plrs[indx]\n",
    "\n",
    "\n",
    "# here's everything we have access to now!\n",
    "BPDict[year][plr].keys()"
   ]
  },
  {
   "cell_type": "code",
   "execution_count": 9,
   "metadata": {},
   "outputs": [],
   "source": [
    "# these are the translations from categories to numbers\n",
    "\n",
    "PitchDict = {'CH':0,\\\n",
    "             'CU':1,\\\n",
    "             'EP':2,\\\n",
    "             'FO':3,\\\n",
    "             'FA':4,\\\n",
    "             'KN':5,\\\n",
    "             'KC':6,\\\n",
    "             'SC':7,\\\n",
    "             'SI':8,\\\n",
    "             'SL':9,\\\n",
    "             'FC':10,\\\n",
    "             'FS':11,\\\n",
    "            'FT':12,\\\n",
    "            'FF':13,\\\n",
    "            'PO':14,\n",
    "            'nan':15,\n",
    "            'CS':16}\n",
    "\n",
    "\n",
    "iPitchDict = {0:'CH',\\\n",
    "             1:'CU',\\\n",
    "             2:'EP',\\\n",
    "             3:'FO',\\\n",
    "             4:'FA',\\\n",
    "             5:'KN',\\\n",
    "             6:'KC',\\\n",
    "             7:'SC',\\\n",
    "             8:'SI',\\\n",
    "             9:'SL',\\\n",
    "             10:'FC',\\\n",
    "             11:'FS',\\\n",
    "            12:'FT',\\\n",
    "            13:'FF',\\\n",
    "            14:'PO',\\\n",
    "             15:'nan',\\\n",
    "             16:'CS'}\n",
    "\n"
   ]
  },
  {
   "cell_type": "code",
   "execution_count": 10,
   "metadata": {},
   "outputs": [
    {
     "name": "stdout",
     "output_type": "stream",
     "text": [
      "nan\n",
      "(175816, 14)\n"
     ]
    }
   ],
   "source": [
    "# put the data in a recognisable format\n",
    "\n",
    "X = []\n",
    "ptype = []\n",
    "pname = []\n",
    "poutcome = []\n",
    "ballpark = []\n",
    "\n",
    "year = '2020'\n",
    "#for plr in check_players:\n",
    "for plr in saved_plrs:\n",
    "\n",
    "    Xtmp = np.array([BPDict[year][plr]['release_pos_x'],BPDict[year][plr]['release_pos_z'],\\\n",
    "                 BPDict[year][plr]['plate_x'],BPDict[year][plr]['plate_z'],\\\n",
    "                 BPDict[year][plr]['vx0'],BPDict[year][plr]['vy0'],BPDict[year][plr]['vz0'],\\\n",
    "                 BPDict[year][plr]['ax'],BPDict[year][plr]['ay'],BPDict[year][plr]['az'],\\\n",
    "             BPDict[year][plr]['release_spin_rate'],BPDict[year][plr]['effective_speed'],\\\n",
    "                    BPDict[year][plr]['launch_speed'],BPDict[year][plr]['launch_angle']]).T\n",
    "    \n",
    "    for val in BPDict[year][plr]['pitch_type']:\n",
    "        if val not in PitchDict.keys(): \n",
    "            print(val)\n",
    "            PitchDict[val] = 17\n",
    "            \n",
    "    ptypetmp = np.array([PitchDict[x] for x in BPDict[year][plr]['pitch_type']])\n",
    "    pnametmp = np.array([plr for x in BPDict[year][plr]['pitch_name']])\n",
    "    poutcometmp = np.array([x for x in BPDict[year][plr]['events']])\n",
    "    ballparktmp = np.array([x for x in BPDict[year][plr]['home_team']])\n",
    "\n",
    "\n",
    "\n",
    "    # if you want to select only right handers...\n",
    "    try:\n",
    "        if BPDict[year][plr]['p_throws'][0] == 'R':\n",
    "            for xx in range(0,Xtmp.shape[0]):\n",
    "                #if np.all(np.isfinite(Xtmp[xx])):\n",
    "                    X.append(Xtmp[xx])\n",
    "                    ptype.append(ptypetmp[xx])\n",
    "                    pname.append(pnametmp[xx])\n",
    "                    #print(poutcometmp[xx])\n",
    "                    poutcome.append(poutcometmp[xx])\n",
    "                    ballpark.append(ballparktmp[xx])\n",
    "    except:\n",
    "        pass\n",
    "        \n",
    "\n",
    "PT2020 = np.array(ptype)\n",
    "X2020 = np.array(X)\n",
    "N2020 = np.array(pname)\n",
    "O2020 = np.array(poutcome)\n",
    "B2020 = np.array(ballpark)\n",
    "print(X2020.shape)"
   ]
  },
  {
   "cell_type": "code",
   "execution_count": 11,
   "metadata": {},
   "outputs": [],
   "source": [
    "# np.array([BPDict[year][plr]['release_pos_x'],BPDict[year][plr]['release_pos_z'],\\\n",
    "                 #BPDict[year][plr]['plate_x'],BPDict[year][plr]['plate_z'],\\\n",
    "                 #BPDict[year][plr]['vx0'],BPDict[year][plr]['vy0'],BPDict[year][plr]['vz0'],\\\n",
    "                # BPDict[year][plr]['ax'],BPDict[year][plr]['ay'],BPDict[year][plr]['az'],\\\n",
    "            # BPDict[year][plr]['release_spin_rate'],BPDict[year][plr]['effective_speed']]).T\n",
    "\n",
    "f = open('processed/fourseamers_2020_R.csv','w')\n",
    "print('{0},{1},{2},{3},{4},{5},{6},{7},{8},{9},{10},{11},{12},{13},{14},{15},{16}'\\\n",
    "                  .format('pitcher','outcome','ballpark','xrelease','zrelease','xplate','zplate','vx0','vy0','vz0','ax','ay','az','spin','velocity','launch_speed','launch_angle'),file=f)\n",
    "\n",
    "for indx in range(0,O2020.size):\n",
    "    if (PT2020[indx] == 13) & (X2020[indx,10]>0) & (X2020[indx,11]>0):\n",
    "        print('{0},{1},{2},{3},{4},{5},{6},{7},{8},{9},{10},{11},{12},{13},{14},{15},{16}'\\\n",
    "              .format(N2020[indx],O2020[indx],B2020[indx],X2020[indx,0],X2020[indx,1],\\\n",
    "                          X2020[indx,2],X2020[indx,3],X2020[indx,4],X2020[indx,5],\\\n",
    "                          X2020[indx,6],X2020[indx,7],X2020[indx,8],X2020[indx,9],\\\n",
    "                          X2020[indx,10],X2020[indx,11],X2020[indx,12],X2020[indx,13]),file=f)\n",
    "\n",
    "f.close()"
   ]
  },
  {
   "cell_type": "code",
   "execution_count": null,
   "metadata": {},
   "outputs": [],
   "source": []
  },
  {
   "cell_type": "markdown",
   "metadata": {},
   "source": [
    "## Do the same for 2019."
   ]
  },
  {
   "cell_type": "code",
   "execution_count": 12,
   "metadata": {},
   "outputs": [
    {
     "name": "stdout",
     "output_type": "stream",
     "text": [
      "(404732, 14)\n"
     ]
    }
   ],
   "source": [
    "X = []\n",
    "ptype = []\n",
    "pname = []\n",
    "poutcome = []\n",
    "ballpark = []\n",
    "\n",
    "\n",
    "year = '2019'\n",
    "#for plr in check_players:\n",
    "for plr in saved_plrs:\n",
    "\n",
    "    Xtmp = np.array([BPDict[year][plr]['release_pos_x'],BPDict[year][plr]['release_pos_z'],\\\n",
    "                 BPDict[year][plr]['plate_x'],BPDict[year][plr]['plate_z'],\\\n",
    "                 BPDict[year][plr]['vx0'],BPDict[year][plr]['vy0'],BPDict[year][plr]['vz0'],\\\n",
    "                 BPDict[year][plr]['ax'],BPDict[year][plr]['ay'],BPDict[year][plr]['az'],\\\n",
    "             BPDict[year][plr]['release_spin_rate'],BPDict[year][plr]['effective_speed'],\\\n",
    "                    BPDict[year][plr]['launch_speed'],BPDict[year][plr]['launch_angle']]).T\n",
    "    \n",
    "    for val in BPDict[year][plr]['pitch_type']:\n",
    "        if val not in PitchDict.keys(): \n",
    "            print(val)\n",
    "            PitchDict[val] = 17\n",
    "            \n",
    "    ptypetmp = np.array([PitchDict[x] for x in BPDict[year][plr]['pitch_type']])\n",
    "    pnametmp = np.array([plr for x in BPDict[year][plr]['pitch_type']])\n",
    "    poutcometmp = np.array([x for x in BPDict[year][plr]['events']])\n",
    "    ballparktmp = np.array([x for x in BPDict[year][plr]['home_team']])\n",
    "\n",
    "\n",
    "\n",
    "\n",
    "    try:\n",
    "        if BPDict[year][plr]['p_throws'][0] == 'R':\n",
    "            for xx in range(0,Xtmp.shape[0]):\n",
    "                #if np.all(np.isfinite(Xtmp[xx])):\n",
    "                    X.append(Xtmp[xx])\n",
    "                    ptype.append(ptypetmp[xx])\n",
    "                    pname.append(pnametmp[xx])\n",
    "                    poutcome.append(poutcometmp[xx])\n",
    "                    ballpark.append(ballparktmp[xx])\n",
    "\n",
    "    except:\n",
    "        pass\n",
    "        \n",
    "\n",
    "PT2019 = np.array(ptype)\n",
    "X2019 = np.array(X)\n",
    "N2019 = np.array(pname)\n",
    "O2019 = np.array(poutcome)\n",
    "B2019 = np.array(ballpark)\n",
    "\n",
    "\n",
    "print(X2019.shape)"
   ]
  },
  {
   "cell_type": "code",
   "execution_count": 13,
   "metadata": {},
   "outputs": [],
   "source": [
    "# np.array([BPDict[year][plr]['release_pos_x'],BPDict[year][plr]['release_pos_z'],\\\n",
    "                 #BPDict[year][plr]['plate_x'],BPDict[year][plr]['plate_z'],\\\n",
    "                 #BPDict[year][plr]['vx0'],BPDict[year][plr]['vy0'],BPDict[year][plr]['vz0'],\\\n",
    "                # BPDict[year][plr]['ax'],BPDict[year][plr]['ay'],BPDict[year][plr]['az'],\\\n",
    "            # BPDict[year][plr]['release_spin_rate'],BPDict[year][plr]['effective_speed']]).T\n",
    "\n",
    "f = open('processed/fourseamers_2019_R.csv','w')\n",
    "print('{0},{1},{2},{3},{4},{5},{6},{7},{8},{9},{10},{11},{12},{13},{14},{15},{16}'\\\n",
    "                  .format('pitcher','outcome','ballpark','xrelease','zrelease','xplate','zplate','vx0','vy0','vz0','ax','ay','az','spin','velocity','launch_speed','launch_angle'),file=f)\n",
    "\n",
    "for indx in range(0,O2019.size):\n",
    "    if PT2019[indx] == 13:\n",
    "        print('{0},{1},{2},{3},{4},{5},{6},{7},{8},{9},{10},{11},{12},{13},{14},{15},{16}'\\\n",
    "                  .format(N2019[indx],O2019[indx],B2019[indx],X2019[indx,0],X2019[indx,1],\\\n",
    "                          X2019[indx,2],X2019[indx,3],X2019[indx,4],X2019[indx,5],\\\n",
    "                          X2019[indx,6],X2019[indx,7],X2019[indx,8],X2019[indx,9],\\\n",
    "                          X2019[indx,10],X2019[indx,11],X2019[indx,12],X2019[indx,13]),file=f)\n",
    "\n",
    "f.close()"
   ]
  }
 ],
 "metadata": {
  "kernelspec": {
   "display_name": "Python 3",
   "language": "python",
   "name": "python3"
  },
  "language_info": {
   "codemirror_mode": {
    "name": "ipython",
    "version": 3
   },
   "file_extension": ".py",
   "mimetype": "text/x-python",
   "name": "python",
   "nbconvert_exporter": "python",
   "pygments_lexer": "ipython3",
   "version": "3.6.8"
  }
 },
 "nbformat": 4,
 "nbformat_minor": 2
}
