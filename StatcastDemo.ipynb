{
 "cells": [
  {
   "cell_type": "markdown",
   "metadata": {},
   "source": [
    "# Demonstrate Statcasting\n",
    "\n",
    "A notebook of a few ways to use the Statcast pitching tools."
   ]
  },
  {
   "cell_type": "code",
   "execution_count": 1,
   "metadata": {},
   "outputs": [],
   "source": [
    "# boilerplate imports\n",
    "\n",
    "import numpy as np\n",
    "import matplotlib.pyplot as plt\n",
    "import matplotlib.cm as cm\n",
    "%matplotlib inline\n",
    "\n",
    "from random import randrange\n",
    "import scipy.stats as sst\n",
    "\n",
    "# ipython reload capabilities for edits to external code\n",
    "%load_ext autoreload\n",
    "%autoreload 2\n",
    "\n",
    "import matplotlib.pyplot as plt\n",
    "plt.rcParams['figure.figsize'] = [10, 5]\n",
    "\n",
    "import pandas as pd\n",
    "\n"
   ]
  },
  {
   "cell_type": "code",
   "execution_count": 2,
   "metadata": {},
   "outputs": [],
   "source": [
    "# start by selecting your year of interest\n",
    "year = '2020'\n",
    "\n",
    "# todo: add cross-year slices"
   ]
  },
  {
   "cell_type": "code",
   "execution_count": 3,
   "metadata": {},
   "outputs": [
    {
     "name": "stdout",
     "output_type": "stream",
     "text": [
      "621244\n"
     ]
    }
   ],
   "source": [
    "# pull in the codes for statcast queries\n",
    "\n",
    "PlayerDict = dict()\n",
    "f = open('data/playerdict'+year+'.txt')\n",
    "\n",
    "line = f.readline()\n",
    "while line:\n",
    "    PlayerDict[line.split(',')[0].strip()] = line.split(',')[1].strip()\n",
    "    line = f.readline()\n",
    "\n",
    "f.close()\n",
    "print(PlayerDict['Jose Berrios'])"
   ]
  },
  {
   "cell_type": "code",
   "execution_count": 4,
   "metadata": {},
   "outputs": [],
   "source": [
    "\n",
    "check_players = ['Jose Berrios','Zack Greinke']\n",
    "\n",
    "save = True\n",
    "\n",
    "verbose=False\n",
    "BPDict = {}\n",
    "\n",
    "for pindx,pnumber in enumerate(check_players):\n",
    "    \n",
    "    if verbose: print(pindx,' ',pnumber)\n",
    "    \n",
    "    link = 'https://baseballsavant.mlb.com/statcast_search/csv?all=true&hfPT=&hfAB=&hfBBT=&hfPR=&hfZ=&stadium=&hfBBL=&hfNewZones=&hfGT=R%7C&hfC=&hfSea='+year+'%7C&hfSit=&player_type=pitcher&hfOuts=&opponent=&pitcher_throws=&batter_stands=&hfSA=&game_date_gt=&game_date_lt=&hfInfield=&team=&position=&hfOutfield=&hfRO=&home_road=&hfFlag=&hfPull=&pitchers_lookup%5B%5D='+str(PlayerDict[pnumber])+'&metric_1=&hfInn=&min_pitches=0&min_results=0&group_by=name&sort_col=pitches&player_event_sort=h_launch_speed&sort_order=desc&min_pas=0&type=details&'\n",
    "\n",
    "    BPDict[pnumber] = pd.read_csv(link, low_memory=False)\n",
    "    \n",
    "    if save:\n",
    "        BPDict[pnumber].to_csv('data/'+pnumber.replace(\" \",\"\")+'_'+year+'.csv',index=False,encoding='utf-8')\n",
    "\n",
    "\n",
    "\n"
   ]
  },
  {
   "cell_type": "code",
   "execution_count": 5,
   "metadata": {},
   "outputs": [
    {
     "ename": "NameError",
     "evalue": "name 'plr' is not defined",
     "output_type": "error",
     "traceback": [
      "\u001b[0;31m---------------------------------------------------------------------------\u001b[0m",
      "\u001b[0;31mNameError\u001b[0m                                 Traceback (most recent call last)",
      "\u001b[0;32m<ipython-input-5-4009eb1ab825>\u001b[0m in \u001b[0;36m<module>\u001b[0;34m\u001b[0m\n\u001b[1;32m      1\u001b[0m \u001b[0;34m\u001b[0m\u001b[0m\n\u001b[1;32m      2\u001b[0m \u001b[0;31m# here's everything we have access to now!\u001b[0m\u001b[0;34m\u001b[0m\u001b[0;34m\u001b[0m\u001b[0;34m\u001b[0m\u001b[0m\n\u001b[0;32m----> 3\u001b[0;31m \u001b[0mBPDict\u001b[0m\u001b[0;34m[\u001b[0m\u001b[0mplr\u001b[0m\u001b[0;34m]\u001b[0m\u001b[0;34m.\u001b[0m\u001b[0mkeys\u001b[0m\u001b[0;34m(\u001b[0m\u001b[0;34m)\u001b[0m\u001b[0;34m\u001b[0m\u001b[0;34m\u001b[0m\u001b[0m\n\u001b[0m",
      "\u001b[0;31mNameError\u001b[0m: name 'plr' is not defined"
     ]
    }
   ],
   "source": [
    "\n",
    "# here's everything we have access to now!\n",
    "BPDict[plr].keys()"
   ]
  },
  {
   "cell_type": "code",
   "execution_count": null,
   "metadata": {},
   "outputs": [],
   "source": [
    "plr = check_players[0] # select Berrios\n",
    "\n"
   ]
  },
  {
   "cell_type": "code",
   "execution_count": null,
   "metadata": {},
   "outputs": [],
   "source": [
    "starts = np.unique(BPDict[plr]['game_date'])\n",
    "pitches = np.unique(BPDict[plr]['pitch_type'])\n",
    "\n",
    "markers = ['s','v','X','p','D','o']\n",
    "print(starts)\n",
    "\n",
    "for istart,start in enumerate(starts):\n",
    "    which_pitches = np.where(BPDict[plr]['game_date']==start)[0]\n",
    "    for ipitch,pitch in enumerate(pitches):\n",
    "        speeds = np.array(BPDict[plr]['release_speed'][which_pitches])\n",
    "        ptypes = BPDict[plr]['pitch_type'][which_pitches]\n",
    "        agreed = np.where(ptypes == pitch)[0]\n",
    "        if ipitch==0:\n",
    "            plt.plot(np.arange(0,agreed.size,1),speeds[agreed],lw=1.0,color=cm.magma(istart/len(starts),1.),label=start)\n",
    "        else:\n",
    "            plt.plot(np.arange(0,agreed.size,1),speeds[agreed],lw=1.0,color=cm.magma(istart/len(starts),1.))\n",
    "\n",
    "\n",
    "        if istart==0:\n",
    "            plt.scatter(np.arange(0,agreed.size,1),speeds[agreed],marker=markers[ipitch],s=20.,color=cm.magma(istart/len(starts),1.),label=pitch)\n",
    "        else:\n",
    "            plt.scatter(np.arange(0,agreed.size,1),speeds[agreed],marker=markers[ipitch],s=20.,color=cm.magma(istart/len(starts),1.))\n",
    "\n",
    "\n",
    "\n",
    "plt.legend()\n",
    "plt.xlabel('Pitch Number',size=12)\n",
    "plt.ylabel('Velocity')\n",
    "plt.tight_layout()\n",
    "\n",
    "plt.savefig('figures/'+plr.replace(\" \",\"\")+'.png',dpi=300)"
   ]
  },
  {
   "cell_type": "code",
   "execution_count": null,
   "metadata": {},
   "outputs": [],
   "source": [
    "\n",
    "# check the outcomes\n",
    "\n",
    "\n",
    "plt.scatter(BPDict[plr]['launch_speed'],BPDict[plr]['launch_angle'],color='black',s=4.)\n",
    "\n",
    "plt.plot([40.,120.],[0,0],color='grey',linestyle='dashed')\n",
    "\n",
    "plt.axis([40.,120.,-55,90])\n",
    "plt.ylabel('Lauch Angle',size=12)\n",
    "plt.xlabel('Launch Speed',size=12)"
   ]
  },
  {
   "cell_type": "code",
   "execution_count": null,
   "metadata": {},
   "outputs": [],
   "source": [
    "\n",
    "# check a particular pitch\n",
    "\n",
    "print(np.unique(BPDict[plr]['pitch_type']))\n",
    "pitchtype = 'FF'\n",
    "\n",
    "pitch_velocity = BPDict[plr]['release_speed'][BPDict[plr]['pitch_type']==pitchtype]\n",
    "pitch_spin = BPDict[plr]['release_spin_rate'][BPDict[plr]['pitch_type']==pitchtype]\n",
    "pitch_inning = np.array(BPDict[plr]['inning'][BPDict[plr]['pitch_type']==pitchtype]).astype('float')\n",
    "\n",
    "\n",
    "plt.scatter(pitch_velocity,pitch_spin,color=cm.viridis((pitch_inning-1)/8.,1.),s=10.)\n",
    "\n",
    "plt.xlabel('Pitch Velocity',size=18)\n",
    "plt.ylabel('Pitch Spin Rate',size=18)\n",
    "plt.tight_layout()\n",
    "\n"
   ]
  },
  {
   "cell_type": "code",
   "execution_count": null,
   "metadata": {},
   "outputs": [],
   "source": []
  }
 ],
 "metadata": {
  "kernelspec": {
   "display_name": "Python 3",
   "language": "python",
   "name": "python3"
  },
  "language_info": {
   "codemirror_mode": {
    "name": "ipython",
    "version": 3
   },
   "file_extension": ".py",
   "mimetype": "text/x-python",
   "name": "python",
   "nbconvert_exporter": "python",
   "pygments_lexer": "ipython3",
   "version": "3.6.8"
  }
 },
 "nbformat": 4,
 "nbformat_minor": 2
}
